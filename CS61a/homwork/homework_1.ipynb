{
 "cells": [
  {
   "cell_type": "markdown",
   "id": "fc29fccd",
   "metadata": {},
   "source": [
    "# Q2: k in Num\n",
    "Write a function `k_in_num` which takes in two integers, `k` and `num`. `k_in_num` returns `True` if `num` has the digit `k` and returns `False` if `num` does not have the digit `k`. `0` is considered to have no digits."
   ]
  },
  {
   "cell_type": "code",
   "execution_count": 15,
   "id": "54542b95",
   "metadata": {},
   "outputs": [],
   "source": [
    "def k_in_num(k, num):\n",
    "    \"\"\"\n",
    "    Complete k_in_num, a function which returns True if num has the digit k and\n",
    "    returns False if num does not have the digit k. 0 is considered to have no\n",
    "    digits.\n",
    "\n",
    "    >>> k_in_num(3, 123) # .Case 1\n",
    "    True\n",
    "    >>> k_in_num(2, 123) # .Case 2\n",
    "    True\n",
    "    >>> k_in_num(5, 123) # .Case 3\n",
    "    False\n",
    "    >>> k_in_num(0, 0) # .Case 4\n",
    "    False\n",
    "    \"\"\"\n",
    "    if num == 0:\n",
    "        return False\n",
    "    if str(k) in str(num):\n",
    "        return True\n",
    "    else:\n",
    "        return False"
   ]
  },
  {
   "cell_type": "markdown",
   "id": "a09ee247",
   "metadata": {},
   "source": [
    "# Q3: A Plus Abs B\n",
    "Python's `operator` module defines binary functions for Python's intrinsic arithmetic operators. For example, calling `operator.add(2,3)` is equivalent to calling the expression `2 + 3`; both will return `5`.\n",
    "\n",
    "Fill in the blanks in the following function for adding a to the absolute value of `b`, without calling `abs`. You may not modify any of the provided code other than the two blanks.\n",
    "```python\n",
    "def a_plus_abs_b(a, b):\n",
    "    \"\"\"Return a+abs(b), but without calling abs.\n",
    "\n",
    "    >>> a_plus_abs_b(2, 3)\n",
    "    5\n",
    "    >>> a_plus_abs_b(2, -3)\n",
    "    5\n",
    "    >>> a_plus_abs_b(-1, 4)\n",
    "    3\n",
    "    >>> a_plus_abs_b(-1, -4)\n",
    "    3\n",
    "    \"\"\"\n",
    "    if b < 0:\n",
    "        f = _____\n",
    "    else:\n",
    "        f = _____\n",
    "    return f(a, b)\n",
    "```"
   ]
  },
  {
   "cell_type": "code",
   "execution_count": 31,
   "id": "e45fb0a5",
   "metadata": {},
   "outputs": [],
   "source": [
    "def a_plus_abs_b(a, b):\n",
    "    \"\"\"Return a+abs(b), but without calling abs.\n",
    "\n",
    "    >>> a_plus_abs_b(2, 3)\n",
    "    5\n",
    "    >>> a_plus_abs_b(2, -3)\n",
    "    5\n",
    "    >>> a_plus_abs_b(-1, 4)\n",
    "    3\n",
    "    >>> a_plus_abs_b(-1, -4)\n",
    "    3\n",
    "    \"\"\"\n",
    "    if b < 0:\n",
    "        f = lambda a,b : a - b \n",
    "    else:\n",
    "        f = lambda a,b : a + b\n",
    "    return f(a, b)"
   ]
  },
  {
   "cell_type": "markdown",
   "id": "46df5263",
   "metadata": {},
   "source": [
    "# Q4: Two of Three\n",
    "Write a function that takes three positive numbers as arguments and returns the sum of the squares of the two smallest numbers. **Use only a single line for the body of the function.**\n",
    "```python\n",
    "def two_of_three(i, j, k):\n",
    "    \"\"\"Return m*m + n*n, where m and n are the two smallest members of the\n",
    "    positive numbers i, j, and k.\n",
    "\n",
    "    >>> two_of_three(1, 2, 3)\n",
    "    5\n",
    "    >>> two_of_three(5, 3, 1)\n",
    "    10\n",
    "    >>> two_of_three(10, 2, 8)\n",
    "    68\n",
    "    >>> two_of_three(5, 5, 5)\n",
    "    50\n",
    "    \"\"\"\n",
    "    return _____\n",
    " ```"
   ]
  },
  {
   "cell_type": "code",
   "execution_count": 50,
   "id": "62aa02b3",
   "metadata": {},
   "outputs": [],
   "source": [
    "def two_of_three(i, j, k):\n",
    "    \"\"\"Return m*m + n*n, where m and n are the two smallest members of the\n",
    "    positive numbers i, j, and k.\n",
    "\n",
    "    >>> two_of_three(1, 2, 3)\n",
    "    5\n",
    "    >>> two_of_three(5, 3, 1)\n",
    "    10\n",
    "    >>> two_of_three(10, 2, 8)\n",
    "    68\n",
    "    >>> two_of_three(5, 5, 5)\n",
    "    50\n",
    "    \"\"\"\n",
    "    return i**2 + j**2 + k**2 - max(i,j,k)**2"
   ]
  },
  {
   "cell_type": "markdown",
   "id": "0dd5db3f",
   "metadata": {},
   "source": [
    "# Q5: Largest Factor\n",
    "Write a function that takes an integer `n` that is **greater than 1** and returns the largest integer that is smaller than `n` and evenly divides `n`.\n",
    "```python\n",
    "def largest_factor(n):\n",
    "    \"\"\"Return the largest factor of n that is smaller than n.\n",
    "\n",
    "    >>> largest_factor(15) # factors are 1, 3, 5\n",
    "    5\n",
    "    >>> largest_factor(80) # factors are 1, 2, 4, 5, 8, 10, 16, 20, 40\n",
    "    40\n",
    "    >>> largest_factor(13) # factor is 1 since 13 is prime\n",
    "    1\n",
    "    \"\"\"\n",
    "    \"*** YOUR CODE HERE ***\"\n",
    "```"
   ]
  },
  {
   "cell_type": "code",
   "execution_count": 53,
   "id": "e52b6026",
   "metadata": {},
   "outputs": [],
   "source": [
    "def largest_factor(n):\n",
    "    \"\"\"Return the largest factor of n that is smaller than n.\n",
    "\n",
    "    >>> largest_factor(15) # factors are 1, 3, 5\n",
    "    5\n",
    "    >>> largest_factor(80) # factors are 1, 2, 4, 5, 8, 10, 16, 20, 40\n",
    "    40\n",
    "    >>> largest_factor(13) # factor is 1 since 13 is prime\n",
    "    1\n",
    "    \"\"\"\n",
    "    \"*** YOUR CODE HERE ***\"\n",
    "    return max([i for i in range(1,n) if n%i==0])"
   ]
  }
 ],
 "metadata": {
  "kernelspec": {
   "display_name": "Python 3 (ipykernel)",
   "language": "python",
   "name": "python3"
  },
  "language_info": {
   "codemirror_mode": {
    "name": "ipython",
    "version": 3
   },
   "file_extension": ".py",
   "mimetype": "text/x-python",
   "name": "python",
   "nbconvert_exporter": "python",
   "pygments_lexer": "ipython3",
   "version": "3.9.7"
  }
 },
 "nbformat": 4,
 "nbformat_minor": 5
}
